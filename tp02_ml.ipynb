{
 "cells": [
  {
   "cell_type": "markdown",
   "id": "155c7c05",
   "metadata": {},
   "source": [
    "## Questão 1"
   ]
  },
  {
   "cell_type": "code",
   "execution_count": 77,
   "id": "a08a2cdc",
   "metadata": {},
   "outputs": [
    {
     "name": "stdout",
     "output_type": "stream",
     "text": [
      "Resumo Estatístico dos Dados Originais:\n"
     ]
    },
    {
     "data": {
      "text/html": [
       "<div>\n",
       "<style scoped>\n",
       "    .dataframe tbody tr th:only-of-type {\n",
       "        vertical-align: middle;\n",
       "    }\n",
       "\n",
       "    .dataframe tbody tr th {\n",
       "        vertical-align: top;\n",
       "    }\n",
       "\n",
       "    .dataframe thead th {\n",
       "        text-align: right;\n",
       "    }\n",
       "</style>\n",
       "<table border=\"1\" class=\"dataframe\">\n",
       "  <thead>\n",
       "    <tr style=\"text-align: right;\">\n",
       "      <th></th>\n",
       "      <th>sepal length (cm)</th>\n",
       "      <th>sepal width (cm)</th>\n",
       "      <th>petal length (cm)</th>\n",
       "      <th>petal width (cm)</th>\n",
       "    </tr>\n",
       "  </thead>\n",
       "  <tbody>\n",
       "    <tr>\n",
       "      <th>count</th>\n",
       "      <td>150.000000</td>\n",
       "      <td>150.000000</td>\n",
       "      <td>150.000000</td>\n",
       "      <td>150.000000</td>\n",
       "    </tr>\n",
       "    <tr>\n",
       "      <th>mean</th>\n",
       "      <td>5.843333</td>\n",
       "      <td>3.057333</td>\n",
       "      <td>3.758000</td>\n",
       "      <td>1.199333</td>\n",
       "    </tr>\n",
       "    <tr>\n",
       "      <th>std</th>\n",
       "      <td>0.828066</td>\n",
       "      <td>0.435866</td>\n",
       "      <td>1.765298</td>\n",
       "      <td>0.762238</td>\n",
       "    </tr>\n",
       "    <tr>\n",
       "      <th>min</th>\n",
       "      <td>4.300000</td>\n",
       "      <td>2.000000</td>\n",
       "      <td>1.000000</td>\n",
       "      <td>0.100000</td>\n",
       "    </tr>\n",
       "    <tr>\n",
       "      <th>25%</th>\n",
       "      <td>5.100000</td>\n",
       "      <td>2.800000</td>\n",
       "      <td>1.600000</td>\n",
       "      <td>0.300000</td>\n",
       "    </tr>\n",
       "    <tr>\n",
       "      <th>50%</th>\n",
       "      <td>5.800000</td>\n",
       "      <td>3.000000</td>\n",
       "      <td>4.350000</td>\n",
       "      <td>1.300000</td>\n",
       "    </tr>\n",
       "    <tr>\n",
       "      <th>75%</th>\n",
       "      <td>6.400000</td>\n",
       "      <td>3.300000</td>\n",
       "      <td>5.100000</td>\n",
       "      <td>1.800000</td>\n",
       "    </tr>\n",
       "    <tr>\n",
       "      <th>max</th>\n",
       "      <td>7.900000</td>\n",
       "      <td>4.400000</td>\n",
       "      <td>6.900000</td>\n",
       "      <td>2.500000</td>\n",
       "    </tr>\n",
       "  </tbody>\n",
       "</table>\n",
       "</div>"
      ],
      "text/plain": [
       "       sepal length (cm)  sepal width (cm)  petal length (cm)  \\\n",
       "count         150.000000        150.000000         150.000000   \n",
       "mean            5.843333          3.057333           3.758000   \n",
       "std             0.828066          0.435866           1.765298   \n",
       "min             4.300000          2.000000           1.000000   \n",
       "25%             5.100000          2.800000           1.600000   \n",
       "50%             5.800000          3.000000           4.350000   \n",
       "75%             6.400000          3.300000           5.100000   \n",
       "max             7.900000          4.400000           6.900000   \n",
       "\n",
       "       petal width (cm)  \n",
       "count        150.000000  \n",
       "mean           1.199333  \n",
       "std            0.762238  \n",
       "min            0.100000  \n",
       "25%            0.300000  \n",
       "50%            1.300000  \n",
       "75%            1.800000  \n",
       "max            2.500000  "
      ]
     },
     "metadata": {},
     "output_type": "display_data"
    },
    {
     "name": "stdout",
     "output_type": "stream",
     "text": [
      "Resumo Estatístico dos Dados Padronizados:\n"
     ]
    },
    {
     "data": {
      "text/html": [
       "<div>\n",
       "<style scoped>\n",
       "    .dataframe tbody tr th:only-of-type {\n",
       "        vertical-align: middle;\n",
       "    }\n",
       "\n",
       "    .dataframe tbody tr th {\n",
       "        vertical-align: top;\n",
       "    }\n",
       "\n",
       "    .dataframe thead th {\n",
       "        text-align: right;\n",
       "    }\n",
       "</style>\n",
       "<table border=\"1\" class=\"dataframe\">\n",
       "  <thead>\n",
       "    <tr style=\"text-align: right;\">\n",
       "      <th></th>\n",
       "      <th>sepal length (cm)</th>\n",
       "      <th>sepal width (cm)</th>\n",
       "      <th>petal length (cm)</th>\n",
       "      <th>petal width (cm)</th>\n",
       "    </tr>\n",
       "  </thead>\n",
       "  <tbody>\n",
       "    <tr>\n",
       "      <th>count</th>\n",
       "      <td>1.500000e+02</td>\n",
       "      <td>1.500000e+02</td>\n",
       "      <td>1.500000e+02</td>\n",
       "      <td>1.500000e+02</td>\n",
       "    </tr>\n",
       "    <tr>\n",
       "      <th>mean</th>\n",
       "      <td>-1.468455e-15</td>\n",
       "      <td>-1.823726e-15</td>\n",
       "      <td>-1.610564e-15</td>\n",
       "      <td>-9.473903e-16</td>\n",
       "    </tr>\n",
       "    <tr>\n",
       "      <th>std</th>\n",
       "      <td>1.003350e+00</td>\n",
       "      <td>1.003350e+00</td>\n",
       "      <td>1.003350e+00</td>\n",
       "      <td>1.003350e+00</td>\n",
       "    </tr>\n",
       "    <tr>\n",
       "      <th>min</th>\n",
       "      <td>-1.870024e+00</td>\n",
       "      <td>-2.433947e+00</td>\n",
       "      <td>-1.567576e+00</td>\n",
       "      <td>-1.447076e+00</td>\n",
       "    </tr>\n",
       "    <tr>\n",
       "      <th>25%</th>\n",
       "      <td>-9.006812e-01</td>\n",
       "      <td>-5.923730e-01</td>\n",
       "      <td>-1.226552e+00</td>\n",
       "      <td>-1.183812e+00</td>\n",
       "    </tr>\n",
       "    <tr>\n",
       "      <th>50%</th>\n",
       "      <td>-5.250608e-02</td>\n",
       "      <td>-1.319795e-01</td>\n",
       "      <td>3.364776e-01</td>\n",
       "      <td>1.325097e-01</td>\n",
       "    </tr>\n",
       "    <tr>\n",
       "      <th>75%</th>\n",
       "      <td>6.745011e-01</td>\n",
       "      <td>5.586108e-01</td>\n",
       "      <td>7.627583e-01</td>\n",
       "      <td>7.906707e-01</td>\n",
       "    </tr>\n",
       "    <tr>\n",
       "      <th>max</th>\n",
       "      <td>2.492019e+00</td>\n",
       "      <td>3.090775e+00</td>\n",
       "      <td>1.785832e+00</td>\n",
       "      <td>1.712096e+00</td>\n",
       "    </tr>\n",
       "  </tbody>\n",
       "</table>\n",
       "</div>"
      ],
      "text/plain": [
       "       sepal length (cm)  sepal width (cm)  petal length (cm)  \\\n",
       "count       1.500000e+02      1.500000e+02       1.500000e+02   \n",
       "mean       -1.468455e-15     -1.823726e-15      -1.610564e-15   \n",
       "std         1.003350e+00      1.003350e+00       1.003350e+00   \n",
       "min        -1.870024e+00     -2.433947e+00      -1.567576e+00   \n",
       "25%        -9.006812e-01     -5.923730e-01      -1.226552e+00   \n",
       "50%        -5.250608e-02     -1.319795e-01       3.364776e-01   \n",
       "75%         6.745011e-01      5.586108e-01       7.627583e-01   \n",
       "max         2.492019e+00      3.090775e+00       1.785832e+00   \n",
       "\n",
       "       petal width (cm)  \n",
       "count      1.500000e+02  \n",
       "mean      -9.473903e-16  \n",
       "std        1.003350e+00  \n",
       "min       -1.447076e+00  \n",
       "25%       -1.183812e+00  \n",
       "50%        1.325097e-01  \n",
       "75%        7.906707e-01  \n",
       "max        1.712096e+00  "
      ]
     },
     "metadata": {},
     "output_type": "display_data"
    }
   ],
   "source": [
    "import pandas as pd\n",
    "import numpy as np\n",
    "from sklearn.datasets import load_iris\n",
    "from sklearn.preprocessing import StandardScaler\n",
    "\n",
    "dados_iris = load_iris()\n",
    "df_iris = pd.DataFrame(data=dados_iris.data, columns=dados_iris.feature_names)\n",
    "\n",
    "print(\"Resumo Estatístico dos Dados Originais:\")\n",
    "display(df_iris.describe())\n",
    "\n",
    "padronizador = StandardScaler()\n",
    "dados_padronizados = padronizador.fit_transform(df_iris)\n",
    "\n",
    "df_padronizado = pd.DataFrame(dados_padronizados, columns=dados_iris.feature_names)\n",
    "\n",
    "print(\"Resumo Estatístico dos Dados Padronizados:\")\n",
    "display(df_padronizado.describe())\n"
   ]
  },
  {
   "cell_type": "markdown",
   "id": "863c6aab",
   "metadata": {},
   "source": [
    "## Questão 2"
   ]
  },
  {
   "cell_type": "code",
   "execution_count": 78,
   "id": "0830d3a0",
   "metadata": {},
   "outputs": [
    {
     "name": "stdout",
     "output_type": "stream",
     "text": [
      "Dados Padronizados Manualmente:\n"
     ]
    },
    {
     "data": {
      "text/html": [
       "<div>\n",
       "<style scoped>\n",
       "    .dataframe tbody tr th:only-of-type {\n",
       "        vertical-align: middle;\n",
       "    }\n",
       "\n",
       "    .dataframe tbody tr th {\n",
       "        vertical-align: top;\n",
       "    }\n",
       "\n",
       "    .dataframe thead th {\n",
       "        text-align: right;\n",
       "    }\n",
       "</style>\n",
       "<table border=\"1\" class=\"dataframe\">\n",
       "  <thead>\n",
       "    <tr style=\"text-align: right;\">\n",
       "      <th></th>\n",
       "      <th>sepal length (cm)</th>\n",
       "      <th>sepal width (cm)</th>\n",
       "      <th>petal length (cm)</th>\n",
       "      <th>petal width (cm)</th>\n",
       "    </tr>\n",
       "  </thead>\n",
       "  <tbody>\n",
       "    <tr>\n",
       "      <th>count</th>\n",
       "      <td>1.500000e+02</td>\n",
       "      <td>1.500000e+02</td>\n",
       "      <td>1.500000e+02</td>\n",
       "      <td>1.500000e+02</td>\n",
       "    </tr>\n",
       "    <tr>\n",
       "      <th>mean</th>\n",
       "      <td>-1.515825e-15</td>\n",
       "      <td>-1.894781e-15</td>\n",
       "      <td>-1.515825e-15</td>\n",
       "      <td>-8.526513e-16</td>\n",
       "    </tr>\n",
       "    <tr>\n",
       "      <th>std</th>\n",
       "      <td>1.000000e+00</td>\n",
       "      <td>1.000000e+00</td>\n",
       "      <td>1.000000e+00</td>\n",
       "      <td>1.000000e+00</td>\n",
       "    </tr>\n",
       "    <tr>\n",
       "      <th>min</th>\n",
       "      <td>-1.863780e+00</td>\n",
       "      <td>-2.425820e+00</td>\n",
       "      <td>-1.562342e+00</td>\n",
       "      <td>-1.442245e+00</td>\n",
       "    </tr>\n",
       "    <tr>\n",
       "      <th>25%</th>\n",
       "      <td>-8.976739e-01</td>\n",
       "      <td>-5.903951e-01</td>\n",
       "      <td>-1.222456e+00</td>\n",
       "      <td>-1.179859e+00</td>\n",
       "    </tr>\n",
       "    <tr>\n",
       "      <th>50%</th>\n",
       "      <td>-5.233076e-02</td>\n",
       "      <td>-1.315388e-01</td>\n",
       "      <td>3.353541e-01</td>\n",
       "      <td>1.320673e-01</td>\n",
       "    </tr>\n",
       "    <tr>\n",
       "      <th>75%</th>\n",
       "      <td>6.722490e-01</td>\n",
       "      <td>5.567457e-01</td>\n",
       "      <td>7.602115e-01</td>\n",
       "      <td>7.880307e-01</td>\n",
       "    </tr>\n",
       "    <tr>\n",
       "      <th>max</th>\n",
       "      <td>2.483699e+00</td>\n",
       "      <td>3.080455e+00</td>\n",
       "      <td>1.779869e+00</td>\n",
       "      <td>1.706379e+00</td>\n",
       "    </tr>\n",
       "  </tbody>\n",
       "</table>\n",
       "</div>"
      ],
      "text/plain": [
       "       sepal length (cm)  sepal width (cm)  petal length (cm)  \\\n",
       "count       1.500000e+02      1.500000e+02       1.500000e+02   \n",
       "mean       -1.515825e-15     -1.894781e-15      -1.515825e-15   \n",
       "std         1.000000e+00      1.000000e+00       1.000000e+00   \n",
       "min        -1.863780e+00     -2.425820e+00      -1.562342e+00   \n",
       "25%        -8.976739e-01     -5.903951e-01      -1.222456e+00   \n",
       "50%        -5.233076e-02     -1.315388e-01       3.353541e-01   \n",
       "75%         6.722490e-01      5.567457e-01       7.602115e-01   \n",
       "max         2.483699e+00      3.080455e+00       1.779869e+00   \n",
       "\n",
       "       petal width (cm)  \n",
       "count      1.500000e+02  \n",
       "mean      -8.526513e-16  \n",
       "std        1.000000e+00  \n",
       "min       -1.442245e+00  \n",
       "25%       -1.179859e+00  \n",
       "50%        1.320673e-01  \n",
       "75%        7.880307e-01  \n",
       "max        1.706379e+00  "
      ]
     },
     "metadata": {},
     "output_type": "display_data"
    },
    {
     "name": "stdout",
     "output_type": "stream",
     "text": [
      "Diferença entre StandardScaler e Padronização Manual:\n"
     ]
    },
    {
     "data": {
      "text/html": [
       "<div>\n",
       "<style scoped>\n",
       "    .dataframe tbody tr th:only-of-type {\n",
       "        vertical-align: middle;\n",
       "    }\n",
       "\n",
       "    .dataframe tbody tr th {\n",
       "        vertical-align: top;\n",
       "    }\n",
       "\n",
       "    .dataframe thead th {\n",
       "        text-align: right;\n",
       "    }\n",
       "</style>\n",
       "<table border=\"1\" class=\"dataframe\">\n",
       "  <thead>\n",
       "    <tr style=\"text-align: right;\">\n",
       "      <th></th>\n",
       "      <th>sepal length (cm)</th>\n",
       "      <th>sepal width (cm)</th>\n",
       "      <th>petal length (cm)</th>\n",
       "      <th>petal width (cm)</th>\n",
       "    </tr>\n",
       "  </thead>\n",
       "  <tbody>\n",
       "    <tr>\n",
       "      <th>0</th>\n",
       "      <td>-0.003007</td>\n",
       "      <td>0.003402</td>\n",
       "      <td>-0.004475</td>\n",
       "      <td>-0.004392</td>\n",
       "    </tr>\n",
       "    <tr>\n",
       "      <th>1</th>\n",
       "      <td>-0.003816</td>\n",
       "      <td>-0.000441</td>\n",
       "      <td>-0.004475</td>\n",
       "      <td>-0.004392</td>\n",
       "    </tr>\n",
       "    <tr>\n",
       "      <th>2</th>\n",
       "      <td>-0.004626</td>\n",
       "      <td>0.001097</td>\n",
       "      <td>-0.004665</td>\n",
       "      <td>-0.004392</td>\n",
       "    </tr>\n",
       "    <tr>\n",
       "      <th>3</th>\n",
       "      <td>-0.005030</td>\n",
       "      <td>0.000328</td>\n",
       "      <td>-0.004285</td>\n",
       "      <td>-0.004392</td>\n",
       "    </tr>\n",
       "    <tr>\n",
       "      <th>4</th>\n",
       "      <td>-0.003412</td>\n",
       "      <td>0.004171</td>\n",
       "      <td>-0.004475</td>\n",
       "      <td>-0.004392</td>\n",
       "    </tr>\n",
       "    <tr>\n",
       "      <th>...</th>\n",
       "      <td>...</td>\n",
       "      <td>...</td>\n",
       "      <td>...</td>\n",
       "      <td>...</td>\n",
       "    </tr>\n",
       "    <tr>\n",
       "      <th>145</th>\n",
       "      <td>0.003466</td>\n",
       "      <td>-0.000441</td>\n",
       "      <td>0.002737</td>\n",
       "      <td>0.004838</td>\n",
       "    </tr>\n",
       "    <tr>\n",
       "      <th>146</th>\n",
       "      <td>0.001848</td>\n",
       "      <td>-0.004284</td>\n",
       "      <td>0.002357</td>\n",
       "      <td>0.003079</td>\n",
       "    </tr>\n",
       "    <tr>\n",
       "      <th>147</th>\n",
       "      <td>0.002657</td>\n",
       "      <td>-0.000441</td>\n",
       "      <td>0.002737</td>\n",
       "      <td>0.003519</td>\n",
       "    </tr>\n",
       "    <tr>\n",
       "      <th>148</th>\n",
       "      <td>0.001443</td>\n",
       "      <td>0.002634</td>\n",
       "      <td>0.003116</td>\n",
       "      <td>0.004838</td>\n",
       "    </tr>\n",
       "    <tr>\n",
       "      <th>149</th>\n",
       "      <td>0.000229</td>\n",
       "      <td>-0.000441</td>\n",
       "      <td>0.002547</td>\n",
       "      <td>0.002640</td>\n",
       "    </tr>\n",
       "  </tbody>\n",
       "</table>\n",
       "<p>150 rows × 4 columns</p>\n",
       "</div>"
      ],
      "text/plain": [
       "     sepal length (cm)  sepal width (cm)  petal length (cm)  petal width (cm)\n",
       "0            -0.003007          0.003402          -0.004475         -0.004392\n",
       "1            -0.003816         -0.000441          -0.004475         -0.004392\n",
       "2            -0.004626          0.001097          -0.004665         -0.004392\n",
       "3            -0.005030          0.000328          -0.004285         -0.004392\n",
       "4            -0.003412          0.004171          -0.004475         -0.004392\n",
       "..                 ...               ...                ...               ...\n",
       "145           0.003466         -0.000441           0.002737          0.004838\n",
       "146           0.001848         -0.004284           0.002357          0.003079\n",
       "147           0.002657         -0.000441           0.002737          0.003519\n",
       "148           0.001443          0.002634           0.003116          0.004838\n",
       "149           0.000229         -0.000441           0.002547          0.002640\n",
       "\n",
       "[150 rows x 4 columns]"
      ]
     },
     "metadata": {},
     "output_type": "display_data"
    }
   ],
   "source": [
    "def padronizacao_manual(df):\n",
    "    media = df.mean()\n",
    "    desvio = df.std()\n",
    "    return (df - media) / desvio\n",
    "\n",
    "df_padronizado_manual = padronizacao_manual(df_iris)\n",
    "\n",
    "print(\"Dados Padronizados Manualmente:\")\n",
    "display(df_padronizado_manual.describe())\n",
    "\n",
    "diferenca = df_padronizado - df_padronizado_manual\n",
    "print(\"Diferença entre StandardScaler e Padronização Manual:\")\n",
    "display(diferenca)\n"
   ]
  },
  {
   "cell_type": "markdown",
   "id": "29bdb4e7",
   "metadata": {},
   "source": [
    "## Questão 3"
   ]
  },
  {
   "cell_type": "code",
   "execution_count": 79,
   "id": "1ae1ebce",
   "metadata": {},
   "outputs": [
    {
     "name": "stdout",
     "output_type": "stream",
     "text": [
      "Primeiras linhas dos dados com normalização L2:\n"
     ]
    },
    {
     "data": {
      "text/html": [
       "<div>\n",
       "<style scoped>\n",
       "    .dataframe tbody tr th:only-of-type {\n",
       "        vertical-align: middle;\n",
       "    }\n",
       "\n",
       "    .dataframe tbody tr th {\n",
       "        vertical-align: top;\n",
       "    }\n",
       "\n",
       "    .dataframe thead th {\n",
       "        text-align: right;\n",
       "    }\n",
       "</style>\n",
       "<table border=\"1\" class=\"dataframe\">\n",
       "  <thead>\n",
       "    <tr style=\"text-align: right;\">\n",
       "      <th></th>\n",
       "      <th>sepal length (cm)</th>\n",
       "      <th>sepal width (cm)</th>\n",
       "      <th>petal length (cm)</th>\n",
       "      <th>petal width (cm)</th>\n",
       "    </tr>\n",
       "  </thead>\n",
       "  <tbody>\n",
       "    <tr>\n",
       "      <th>0</th>\n",
       "      <td>0.803773</td>\n",
       "      <td>0.551609</td>\n",
       "      <td>0.220644</td>\n",
       "      <td>0.031521</td>\n",
       "    </tr>\n",
       "    <tr>\n",
       "      <th>1</th>\n",
       "      <td>0.828133</td>\n",
       "      <td>0.507020</td>\n",
       "      <td>0.236609</td>\n",
       "      <td>0.033801</td>\n",
       "    </tr>\n",
       "    <tr>\n",
       "      <th>2</th>\n",
       "      <td>0.805333</td>\n",
       "      <td>0.548312</td>\n",
       "      <td>0.222752</td>\n",
       "      <td>0.034269</td>\n",
       "    </tr>\n",
       "    <tr>\n",
       "      <th>3</th>\n",
       "      <td>0.800030</td>\n",
       "      <td>0.539151</td>\n",
       "      <td>0.260879</td>\n",
       "      <td>0.034784</td>\n",
       "    </tr>\n",
       "    <tr>\n",
       "      <th>4</th>\n",
       "      <td>0.790965</td>\n",
       "      <td>0.569495</td>\n",
       "      <td>0.221470</td>\n",
       "      <td>0.031639</td>\n",
       "    </tr>\n",
       "  </tbody>\n",
       "</table>\n",
       "</div>"
      ],
      "text/plain": [
       "   sepal length (cm)  sepal width (cm)  petal length (cm)  petal width (cm)\n",
       "0           0.803773          0.551609           0.220644          0.031521\n",
       "1           0.828133          0.507020           0.236609          0.033801\n",
       "2           0.805333          0.548312           0.222752          0.034269\n",
       "3           0.800030          0.539151           0.260879          0.034784\n",
       "4           0.790965          0.569495           0.221470          0.031639"
      ]
     },
     "metadata": {},
     "output_type": "display_data"
    }
   ],
   "source": [
    "from sklearn.preprocessing import Normalizer\n",
    "\n",
    "normalizador_l2 = Normalizer(norm='l2')\n",
    "\n",
    "dados_normalizados_l2 = normalizador_l2.fit_transform(df_iris)\n",
    "\n",
    "df_l2 = pd.DataFrame(dados_normalizados_l2, columns=iris.feature_names)\n",
    "print(\"Primeiras linhas dos dados com normalização L2:\")\n",
    "display(df_l2.head())"
   ]
  },
  {
   "cell_type": "markdown",
   "id": "aaf6e786",
   "metadata": {},
   "source": [
    "## Questão 4"
   ]
  },
  {
   "cell_type": "code",
   "execution_count": 80,
   "id": "7364921f",
   "metadata": {},
   "outputs": [
    {
     "name": "stdout",
     "output_type": "stream",
     "text": [
      "Somatório das colunas após normalização L1:\n"
     ]
    },
    {
     "data": {
      "text/plain": [
       "sepal length (cm)    64.711626\n",
       "sepal width (cm)     35.251681\n",
       "petal length (cm)    38.294848\n",
       "petal width (cm)     11.741845\n",
       "dtype: float64"
      ]
     },
     "metadata": {},
     "output_type": "display_data"
    },
    {
     "data": {
      "text/html": [
       "<div>\n",
       "<style scoped>\n",
       "    .dataframe tbody tr th:only-of-type {\n",
       "        vertical-align: middle;\n",
       "    }\n",
       "\n",
       "    .dataframe tbody tr th {\n",
       "        vertical-align: top;\n",
       "    }\n",
       "\n",
       "    .dataframe thead th {\n",
       "        text-align: right;\n",
       "    }\n",
       "</style>\n",
       "<table border=\"1\" class=\"dataframe\">\n",
       "  <thead>\n",
       "    <tr style=\"text-align: right;\">\n",
       "      <th></th>\n",
       "      <th>sepal length (cm)</th>\n",
       "      <th>sepal width (cm)</th>\n",
       "      <th>petal length (cm)</th>\n",
       "      <th>petal width (cm)</th>\n",
       "    </tr>\n",
       "  </thead>\n",
       "  <tbody>\n",
       "    <tr>\n",
       "      <th>0</th>\n",
       "      <td>0.500000</td>\n",
       "      <td>0.343137</td>\n",
       "      <td>0.137255</td>\n",
       "      <td>0.019608</td>\n",
       "    </tr>\n",
       "    <tr>\n",
       "      <th>1</th>\n",
       "      <td>0.515789</td>\n",
       "      <td>0.315789</td>\n",
       "      <td>0.147368</td>\n",
       "      <td>0.021053</td>\n",
       "    </tr>\n",
       "    <tr>\n",
       "      <th>2</th>\n",
       "      <td>0.500000</td>\n",
       "      <td>0.340426</td>\n",
       "      <td>0.138298</td>\n",
       "      <td>0.021277</td>\n",
       "    </tr>\n",
       "    <tr>\n",
       "      <th>3</th>\n",
       "      <td>0.489362</td>\n",
       "      <td>0.329787</td>\n",
       "      <td>0.159574</td>\n",
       "      <td>0.021277</td>\n",
       "    </tr>\n",
       "    <tr>\n",
       "      <th>4</th>\n",
       "      <td>0.490196</td>\n",
       "      <td>0.352941</td>\n",
       "      <td>0.137255</td>\n",
       "      <td>0.019608</td>\n",
       "    </tr>\n",
       "  </tbody>\n",
       "</table>\n",
       "</div>"
      ],
      "text/plain": [
       "   sepal length (cm)  sepal width (cm)  petal length (cm)  petal width (cm)\n",
       "0           0.500000          0.343137           0.137255          0.019608\n",
       "1           0.515789          0.315789           0.147368          0.021053\n",
       "2           0.500000          0.340426           0.138298          0.021277\n",
       "3           0.489362          0.329787           0.159574          0.021277\n",
       "4           0.490196          0.352941           0.137255          0.019608"
      ]
     },
     "execution_count": 80,
     "metadata": {},
     "output_type": "execute_result"
    }
   ],
   "source": [
    "from sklearn.preprocessing import Normalizer\n",
    "\n",
    "normalizador_l1 = Normalizer(norm='l1')\n",
    "\n",
    "dados_l1 = normalizador_l1.fit_transform(df_iris)\n",
    "\n",
    "df_l1_normalizado = pd.DataFrame(dados_l1, columns=iris.feature_names)\n",
    "\n",
    "print(\"Somatório das colunas após normalização L1:\")\n",
    "display(df_l1_normalizado.sum())\n",
    "\n",
    "df_l1_normalizado.head()"
   ]
  },
  {
   "cell_type": "markdown",
   "id": "b9fb6216",
   "metadata": {},
   "source": [
    "## Questão 5"
   ]
  },
  {
   "cell_type": "code",
   "execution_count": 81,
   "id": "4e50ef13",
   "metadata": {},
   "outputs": [
    {
     "name": "stdout",
     "output_type": "stream",
     "text": [
      "As 10 variáveis mais correlacionadas com o alvo:\n",
      "['worst concave points', 'worst perimeter', 'mean concave points', 'worst radius', 'mean perimeter', 'worst area', 'mean radius', 'mean area', 'mean concavity', 'worst concavity']\n"
     ]
    }
   ],
   "source": [
    "from sklearn.datasets import load_breast_cancer\n",
    "import pandas as pd\n",
    "import matplotlib.pyplot as plt\n",
    "import seaborn as sns\n",
    "\n",
    "dados_cancer = load_breast_cancer()\n",
    "df_diagnostico = pd.DataFrame(dados_cancer.data, columns=dados_cancer.feature_names)\n",
    "df_diagnostico['classe'] = dados_cancer.target\n",
    "\n",
    "correlacoes = df_diagnostico.corr()['classe'].drop('classe').abs().sort_values(ascending=False)\n",
    "\n",
    "atributos_principais = correlacoes.head(10).index.tolist()\n",
    "\n",
    "print(\"As 10 variáveis mais correlacionadas com o alvo:\")\n",
    "print(atributos_principais)"
   ]
  },
  {
   "cell_type": "markdown",
   "id": "f2f8f4c2",
   "metadata": {},
   "source": [
    "## Questão 6"
   ]
  },
  {
   "cell_type": "code",
   "execution_count": 82,
   "id": "b29acce5",
   "metadata": {},
   "outputs": [
    {
     "name": "stdout",
     "output_type": "stream",
     "text": [
      "Atributos selecionados via Wrapper (RFE):\n",
      "['mean radius', 'mean compactness', 'mean concavity', 'texture error', 'worst radius', 'worst smoothness', 'worst compactness', 'worst concavity', 'worst concave points', 'worst symmetry']\n",
      "\n",
      "Comparando com o método de correlação:\n",
      "Atributos em comum: {'mean concavity', 'mean radius', 'worst concavity', 'worst concave points', 'worst radius'}\n"
     ]
    }
   ],
   "source": [
    "from sklearn.feature_selection import RFE\n",
    "from sklearn.linear_model import LogisticRegression\n",
    "\n",
    "caracteristicas = df_diagnostico.drop(columns='classe')\n",
    "alvo = df_diagnostico['classe']\n",
    "\n",
    "modelo_base = LogisticRegression(max_iter=10000)\n",
    "\n",
    "seletor_rfe = RFE(estimator=modelo_base, n_features_to_select=10)\n",
    "seletor_rfe.fit(caracteristicas, alvo)\n",
    "\n",
    "variaveis_wrapper = caracteristicas.columns[seletor_rfe.support_].tolist()\n",
    "\n",
    "print(\"Atributos selecionados via Wrapper (RFE):\")\n",
    "print(variaveis_wrapper)\n",
    "\n",
    "print(\"\\nComparando com o método de correlação:\")\n",
    "em_comum = set(atributos_principais) & set(variaveis_wrapper)\n",
    "print(\"Atributos em comum:\", em_comum)\n"
   ]
  },
  {
   "cell_type": "markdown",
   "id": "a1a5b7bf",
   "metadata": {},
   "source": [
    "## Questão 7\n",
    "Descreva o funcionamento do método de Embedding e sua vantagem computacional em relação ao Wrapper."
   ]
  },
  {
   "cell_type": "markdown",
   "id": "5a75d0d7",
   "metadata": {},
   "source": [
    "O método de Embedding faz a seleção de atributos durante o próprio treinamento do modelo, aproveitando as características internas do algoritmo, como regularização (L1) ou importância dos atributos em árvores de decisão. Isso o torna mais eficiente do que o método Wrapper, que testa várias combinações de atributos separadamente, exigindo mais tempo e processamento."
   ]
  },
  {
   "cell_type": "markdown",
   "id": "ffc1050d",
   "metadata": {},
   "source": [
    "## Questão 8"
   ]
  },
  {
   "cell_type": "code",
   "execution_count": 97,
   "id": "ae4d9e3f",
   "metadata": {},
   "outputs": [
    {
     "data": {
      "text/html": [
       "<div>\n",
       "<style scoped>\n",
       "    .dataframe tbody tr th:only-of-type {\n",
       "        vertical-align: middle;\n",
       "    }\n",
       "\n",
       "    .dataframe tbody tr th {\n",
       "        vertical-align: top;\n",
       "    }\n",
       "\n",
       "    .dataframe thead th {\n",
       "        text-align: right;\n",
       "    }\n",
       "</style>\n",
       "<table border=\"1\" class=\"dataframe\">\n",
       "  <thead>\n",
       "    <tr style=\"text-align: right;\">\n",
       "      <th></th>\n",
       "      <th>acorram</th>\n",
       "      <th>alma</th>\n",
       "      <th>anteriormente</th>\n",
       "      <th>ao</th>\n",
       "      <th>as</th>\n",
       "      <th>capaz</th>\n",
       "      <th>chamamos</th>\n",
       "      <th>coisa</th>\n",
       "      <th>coisas</th>\n",
       "      <th>com</th>\n",
       "      <th>...</th>\n",
       "      <th>só</th>\n",
       "      <th>tanto</th>\n",
       "      <th>toda</th>\n",
       "      <th>todas</th>\n",
       "      <th>todo</th>\n",
       "      <th>um</th>\n",
       "      <th>uma</th>\n",
       "      <th>vezes</th>\n",
       "      <th>virtude</th>\n",
       "      <th>viu</th>\n",
       "    </tr>\n",
       "  </thead>\n",
       "  <tbody>\n",
       "    <tr>\n",
       "      <th>0</th>\n",
       "      <td>1</td>\n",
       "      <td>1</td>\n",
       "      <td>1</td>\n",
       "      <td>1</td>\n",
       "      <td>4</td>\n",
       "      <td>1</td>\n",
       "      <td>1</td>\n",
       "      <td>1</td>\n",
       "      <td>4</td>\n",
       "      <td>3</td>\n",
       "      <td>...</td>\n",
       "      <td>1</td>\n",
       "      <td>1</td>\n",
       "      <td>1</td>\n",
       "      <td>3</td>\n",
       "      <td>1</td>\n",
       "      <td>1</td>\n",
       "      <td>2</td>\n",
       "      <td>1</td>\n",
       "      <td>1</td>\n",
       "      <td>2</td>\n",
       "    </tr>\n",
       "  </tbody>\n",
       "</table>\n",
       "<p>1 rows × 63 columns</p>\n",
       "</div>"
      ],
      "text/plain": [
       "   acorram  alma  anteriormente  ao  as  capaz  chamamos  coisa  coisas  com  \\\n",
       "0        1     1              1   1   4      1         1      1       4    3   \n",
       "\n",
       "   ...  só  tanto  toda  todas  todo  um  uma  vezes  virtude  viu  \n",
       "0  ...   1      1     1      3     1   1    2      1        1    2  \n",
       "\n",
       "[1 rows x 63 columns]"
      ]
     },
     "execution_count": 97,
     "metadata": {},
     "output_type": "execute_result"
    }
   ],
   "source": [
    "from sklearn.feature_extraction.text import CountVectorizer\n",
    "\n",
    "texto = '''A alma é, pois, imortal; renasceu repetidas vezes na existência e contemplou todas as coisas existentes e por isso não há nada que ela não conheça! \n",
    "Não é de espantar que ela seja capaz de evocar à memória a lembrança de objetos que viu anteriormente, e que se relacionam tanto com a virtude como com as outras coisas existentes. \n",
    "Toda a natureza, com efeito, é uma só, é um todo orgânico, e o espírito já viu todas as coisas; logo, nada impede que ao nos lembrarmos de uma coisa – o que nós, homens, chamamos de “saber” – todas as outras coisas acorram imediata e maquinalmente à nossa consciência.'''\n",
    "\n",
    "vectorizer = CountVectorizer()\n",
    "X_bow = vectorizer.fit_transform([texto])\n",
    "pd.DataFrame(X_bow.toarray(), columns=vectorizer.get_feature_names_out())"
   ]
  },
  {
   "cell_type": "markdown",
   "id": "369859ae",
   "metadata": {},
   "source": [
    "## Questão 9"
   ]
  },
  {
   "cell_type": "code",
   "execution_count": 98,
   "id": "2d441846",
   "metadata": {},
   "outputs": [
    {
     "name": "stdout",
     "output_type": "stream",
     "text": [
      "1-grams:\n",
      "63\n",
      "2-grams:\n",
      "82\n",
      "3-grams:\n",
      "86\n"
     ]
    }
   ],
   "source": [
    "for n in [1, 2, 3]:\n",
    "    vectorizer_ng = CountVectorizer(ngram_range=(n, n))\n",
    "    X_ng = vectorizer_ng.fit_transform([texto])\n",
    "    print(f\"{n}-grams:\")\n",
    "    print(len(vectorizer_ng.get_feature_names_out()))"
   ]
  },
  {
   "cell_type": "markdown",
   "id": "6d5078b3",
   "metadata": {},
   "source": [
    "## Questão 10"
   ]
  },
  {
   "cell_type": "code",
   "execution_count": 99,
   "id": "020da780",
   "metadata": {},
   "outputs": [
    {
     "name": "stdout",
     "output_type": "stream",
     "text": [
      "['alma', 'pois', 'imortal', 'renasceu', 'repetidas', 'vezes', 'existência', 'contemplou', 'todas', 'coisas', 'existentes', 'nada', 'conheça', 'espantar', 'capaz', 'evocar', 'memória', 'lembrança', 'objetos', 'viu', 'anteriormente', 'relacionam', 'tanto', 'virtude', 'outras', 'coisas', 'existentes', 'toda', 'natureza', 'efeito', 'todo', 'orgânico', 'espírito', 'viu', 'todas', 'coisas', 'logo', 'nada', 'impede', 'lembrarmos', 'coisa', 'homens', 'chamamos', 'saber', 'todas', 'outras', 'coisas', 'acorram', 'imediata', 'maquinalmente', 'consciência']\n"
     ]
    },
    {
     "name": "stderr",
     "output_type": "stream",
     "text": [
      "[nltk_data] Downloading package stopwords to C:\\Users\\Volta\n",
      "[nltk_data]     Taylana\\AppData\\Roaming\\nltk_data...\n",
      "[nltk_data]   Package stopwords is already up-to-date!\n"
     ]
    }
   ],
   "source": [
    "import nltk\n",
    "from nltk.corpus import stopwords\n",
    "from nltk.tokenize import RegexpTokenizer\n",
    "\n",
    "nltk.download('stopwords')\n",
    "\n",
    "conteudo = \"\"\"A alma é, pois, imortal; renasceu repetidas vezes na existência e contemplou todas as coisas existentes e por isso não há nada que ela não conheça! Não é de espantar que ela seja capaz de evocar à memória a lembrança de objetos que viu anteriormente, e que se relacionam tanto com a virtude como com as outras coisas existentes. Toda a natureza, com efeito, é uma só, é um todo orgânico, e o espírito já viu todas as coisas; logo, nada impede que ao nos lembrarmos de uma coisa – o que nós, homens, chamamos de “saber” – todas as outras coisas acorram imediata e maquinalmente à nossa consciência.\"\"\"\n",
    "\n",
    "tokenizador = RegexpTokenizer(r'\\w+')\n",
    "palavras = tokenizador.tokenize(conteudo.lower())\n",
    "\n",
    "palavras_vazias = set(stopwords.words('portuguese'))\n",
    "\n",
    "palavras_filtradas = [p for p in palavras if p not in palavras_vazias]\n",
    "\n",
    "print(palavras_filtradas)\n"
   ]
  },
  {
   "cell_type": "markdown",
   "id": "68fa4a72",
   "metadata": {},
   "source": [
    "## Questão 11"
   ]
  },
  {
   "cell_type": "code",
   "execution_count": 100,
   "id": "29541dae",
   "metadata": {},
   "outputs": [
    {
     "name": "stderr",
     "output_type": "stream",
     "text": [
      "[nltk_data] Downloading package punkt to C:\\Users\\Volta\n",
      "[nltk_data]     Taylana\\AppData\\Roaming\\nltk_data...\n",
      "[nltk_data]   Package punkt is already up-to-date!\n",
      "[nltk_data] Downloading package rslp to C:\\Users\\Volta\n",
      "[nltk_data]     Taylana\\AppData\\Roaming\\nltk_data...\n",
      "[nltk_data]   Package rslp is already up-to-date!\n"
     ]
    },
    {
     "data": {
      "text/plain": [
       "True"
      ]
     },
     "execution_count": 100,
     "metadata": {},
     "output_type": "execute_result"
    }
   ],
   "source": [
    "import nltk\n",
    "\n",
    "nltk.download('punkt')\n",
    "nltk.download('rslp')"
   ]
  },
  {
   "cell_type": "code",
   "execution_count": 101,
   "id": "8c5928fd",
   "metadata": {},
   "outputs": [
    {
     "name": "stdout",
     "output_type": "stream",
     "text": [
      "Tokens: ['A', 'alma', 'é', ',', 'pois', ',', 'imortal', ';', 'renasceu', 'repetidas', 'vezes', 'na', 'existência', 'e', 'contemplou', 'todas', 'as', 'coisas', 'existentes', 'e', 'por', 'isso', 'não', 'há', 'nada', 'que', 'ela', 'não', 'conheça', '!', 'Não', 'é', 'de', 'espantar', 'que', 'ela', 'seja', 'capaz', 'de', 'evocar', 'à', 'memória', 'a', 'lembrança', 'de', 'objetos', 'que', 'viu', 'anteriormente', ',', 'e', 'que', 'se', 'relacionam', 'tanto', 'com', 'a', 'virtude', 'como', 'com', 'as', 'outras', 'coisas', 'existentes', '.', 'Toda', 'a', 'natureza', ',', 'com', 'efeito', ',', 'é', 'uma', 'só', ',', 'é', 'um', 'todo', 'orgânico', ',', 'e', 'o', 'espírito', 'já', 'viu', 'todas', 'as', 'coisas', ';', 'logo', ',', 'nada', 'impede', 'que', 'ao', 'nos', 'lembrarmos', 'de', 'uma', 'coisa', '–', 'o', 'que', 'nós', ',', 'homens', ',', 'chamamos', 'de', '“', 'saber', '”', '–', 'todas', 'as', 'outras', 'coisas', 'acorram', 'imediata', 'e', 'maquinalmente', 'à', 'nossa', 'consciência', '.']\n",
      "Stemmed: ['a', 'alm', 'é', ',', 'poi', ',', 'imort', ';', 'renasc', 'repet', 'vez', 'na', 'exist', 'e', 'contempl', 'tod', 'as', 'cois', 'exist', 'e', 'por', 'iss', 'não', 'há', 'nad', 'que', 'ela', 'não', 'conheç', '!', 'não', 'é', 'de', 'espant', 'que', 'ela', 'sej', 'capaz', 'de', 'evoc', 'à', 'memór', 'a', 'lembranç', 'de', 'objet', 'que', 'viu', 'anteri', ',', 'e', 'que', 'se', 'relacion', 'tant', 'com', 'a', 'virtud', 'com', 'com', 'as', 'outr', 'cois', 'exist', '.', 'tod', 'a', 'natur', ',', 'com', 'efeit', ',', 'é', 'uma', 'só', ',', 'é', 'um', 'tod', 'orgân', ',', 'e', 'o', 'espírit', 'já', 'viu', 'tod', 'as', 'cois', ';', 'log', ',', 'nad', 'imped', 'que', 'ao', 'no', 'lembr', 'de', 'uma', 'cois', '–', 'o', 'que', 'nó', ',', 'hom', ',', 'cham', 'de', '“', 'sab', '”', '–', 'tod', 'as', 'outr', 'cois', 'acorr', 'imediat', 'e', 'maqu', 'à', 'noss', 'consci', '.']\n"
     ]
    }
   ],
   "source": [
    "from nltk.tokenize import wordpunct_tokenize\n",
    "from nltk.stem import RSLPStemmer\n",
    "\n",
    "words = wordpunct_tokenize(texto)\n",
    "\n",
    "stemmer = RSLPStemmer()\n",
    "stemmed = [stemmer.stem(word) for word in words]\n",
    "\n",
    "print(\"Tokens:\", words)\n",
    "print(\"Stemmed:\", stemmed)"
   ]
  },
  {
   "cell_type": "markdown",
   "id": "dd94ca94",
   "metadata": {},
   "source": [
    "## Questão 12"
   ]
  },
  {
   "cell_type": "code",
   "execution_count": 102,
   "id": "6ce9f884",
   "metadata": {},
   "outputs": [
    {
     "name": "stderr",
     "output_type": "stream",
     "text": [
      "[nltk_data] Downloading package punkt to C:\\Users\\Volta\n",
      "[nltk_data]     Taylana\\AppData\\Roaming\\nltk_data...\n",
      "[nltk_data]   Package punkt is already up-to-date!\n"
     ]
    },
    {
     "data": {
      "text/plain": [
       "True"
      ]
     },
     "execution_count": 102,
     "metadata": {},
     "output_type": "execute_result"
    }
   ],
   "source": [
    "import nltk\n",
    "nltk.download('punkt')"
   ]
  },
  {
   "cell_type": "code",
   "execution_count": 103,
   "id": "0af58657",
   "metadata": {},
   "outputs": [
    {
     "name": "stdout",
     "output_type": "stream",
     "text": [
      "['alma', 'poi', 'imortal', 'renasceu', 'repetidas', 'vezes', 'existência', 'contemplou', 'toda', 'coisas', 'existentes', 'nada', 'conheça', 'espantar', 'capaz', 'evocar', 'memória', 'lembrança', 'objetos', 'viu', 'anteriormente', 'relacionam', 'tanto', 'virtude', 'outras', 'coisas', 'existentes', 'toda', 'natureza', 'efeito', 'todo', 'orgânico', 'espírito', 'viu', 'toda', 'coisas', 'logo', 'nada', 'impede', 'lembrarmos', 'coisa', 'homens', 'chamamos', 'saber', 'toda', 'outras', 'coisas', 'acorram', 'imediata', 'maquinalmente', 'consciência']\n"
     ]
    },
    {
     "name": "stderr",
     "output_type": "stream",
     "text": [
      "[nltk_data] Downloading package wordnet to C:\\Users\\Volta\n",
      "[nltk_data]     Taylana\\AppData\\Roaming\\nltk_data...\n",
      "[nltk_data]   Package wordnet is already up-to-date!\n",
      "[nltk_data] Downloading package omw-1.4 to C:\\Users\\Volta\n",
      "[nltk_data]     Taylana\\AppData\\Roaming\\nltk_data...\n",
      "[nltk_data]   Package omw-1.4 is already up-to-date!\n"
     ]
    }
   ],
   "source": [
    "from nltk.stem import WordNetLemmatizer\n",
    "nltk.download('wordnet')\n",
    "nltk.download('omw-1.4')\n",
    "\n",
    "lemmatizer = WordNetLemmatizer()\n",
    "lemmatized = [lemmatizer.lemmatize(word) for word in filtered_words]\n",
    "print(lemmatized)"
   ]
  }
 ],
 "metadata": {
  "kernelspec": {
   "display_name": "infnet-ml",
   "language": "python",
   "name": "python3"
  },
  "language_info": {
   "codemirror_mode": {
    "name": "ipython",
    "version": 3
   },
   "file_extension": ".py",
   "mimetype": "text/x-python",
   "name": "python",
   "nbconvert_exporter": "python",
   "pygments_lexer": "ipython3",
   "version": "3.13.2"
  }
 },
 "nbformat": 4,
 "nbformat_minor": 5
}
